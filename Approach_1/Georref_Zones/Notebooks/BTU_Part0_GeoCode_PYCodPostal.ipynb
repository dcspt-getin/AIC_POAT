{
 "cells": [
  {
   "attachments": {},
   "cell_type": "markdown",
   "metadata": {},
   "source": [
    "Para correr este notebook é necessária a instalação do Python e de um conjunto de bibliotecas. Para facilitar a instalação, recomenda-se a instalação do [Anaconda](https://www.anaconda.com/products/individual) e criação de um ambiente a partir do ficheiro geopreprocess.yml disponibilizado na pasta [Conda and PIP env]. Alternativamente, pode-se instalar as bibliotecas usando o comando pip install -r requirements_geopreprocess.txt na linha de comandos"
   ]
  },
  {
   "attachments": {},
   "cell_type": "markdown",
   "metadata": {},
   "source": [
    "# DESCRIÇÃO\n",
    "Este notebook é dedicado à geocodificação (identificação da coordenada x,y) dos registos da base de dados PrimeYield com informação em falta relativamente à localização geográfica.\n",
    "A georeferenciação é realizada com base na variável código postal e recorrendo à API do Google Maps.\n"
   ]
  },
  {
   "cell_type": "markdown",
   "metadata": {},
   "source": [
    "Configuração do projeto"
   ]
  },
  {
   "cell_type": "code",
   "execution_count": null,
   "metadata": {},
   "outputs": [],
   "source": [
    "# pip install geopy"
   ]
  },
  {
   "cell_type": "code",
   "execution_count": null,
   "metadata": {},
   "outputs": [],
   "source": [
    "import pandas as pd \n",
    "import numpy as np\n",
    "\n",
    "import geopandas as gpd\n",
    "\n",
    "\n",
    "import seaborn as sns\n",
    "\n",
    "# Livrarias para ler dados do openstreetmaps e representação da rede de estradas como um grafo\n",
    "import osmnx as ox\n",
    "import networkx as nx\n",
    "\n",
    "import re\n",
    "\n",
    "#import pgeocode as pgc\n",
    "#import geopy\n",
    "\n",
    "import time\n",
    "\n",
    "import matplotlib.pyplot as plt\n",
    "\n",
    "import os\n",
    "\n",
    "import pickle \n",
    "\n"
   ]
  },
  {
   "cell_type": "code",
   "execution_count": null,
   "metadata": {},
   "outputs": [],
   "source": [
    "from tqdm import tqdm\n",
    "#{progress in percentage} | {bar} | {processed}/{total} [{elapsed time}<{remaining time}, {number of iterations per seconds} it/s]"
   ]
  },
  {
   "cell_type": "code",
   "execution_count": null,
   "metadata": {},
   "outputs": [],
   "source": [
    "os.getcwd()"
   ]
  },
  {
   "cell_type": "markdown",
   "metadata": {},
   "source": [
    "# Directorias"
   ]
  },
  {
   "attachments": {},
   "cell_type": "markdown",
   "metadata": {},
   "source": [
    "## DADOS base de dados PrimeYield"
   ]
  },
  {
   "cell_type": "code",
   "execution_count": null,
   "metadata": {},
   "outputs": [],
   "source": [
    "\n",
    "open_file = open('../Data/Inputs/db_primeyield_ini.piclo', \"rb\")\n",
    "records_py_nogps = pickle.load(open_file)\n",
    "open_file.close()"
   ]
  },
  {
   "cell_type": "code",
   "execution_count": null,
   "metadata": {},
   "outputs": [],
   "source": [
    "records_py_nogps[\"geocod_query\"] = records_py_nogps[\"ADD_POSTAL_CODE\"].astype(str) + \", Aveiro, Portugal\"\n",
    "records_py_nogps"
   ]
  },
  {
   "cell_type": "code",
   "execution_count": null,
   "metadata": {},
   "outputs": [],
   "source": [
    "from geopy.geocoders import GoogleV3\n",
    "gkey = 'INSERT YOUR KEY HERE'\n",
    "geolocator = GoogleV3(api_key=gkey)\n",
    "\n",
    "from geopy.extra.rate_limiter import RateLimiter\n",
    "geocode = RateLimiter(geolocator.geocode, min_delay_seconds=1)\n",
    "records_py_nogps['location'] = records_py_nogps['geocod_query'].apply(geocode)\n"
   ]
  },
  {
   "cell_type": "code",
   "execution_count": null,
   "metadata": {},
   "outputs": [],
   "source": [
    "records_py_nogps['location']"
   ]
  },
  {
   "cell_type": "code",
   "execution_count": null,
   "metadata": {},
   "outputs": [],
   "source": [
    "from shapely.geometry import Point\n",
    "records_py_nogps['point'] = records_py_nogps['location'].apply(lambda loc: tuple(loc.point[0:2]) if loc else None)\n",
    "records_py_nogps['point'] = records_py_nogps['point'].apply(Point)"
   ]
  },
  {
   "cell_type": "code",
   "execution_count": null,
   "metadata": {},
   "outputs": [],
   "source": [
    "records_py_nogps['point'] "
   ]
  },
  {
   "cell_type": "code",
   "execution_count": null,
   "metadata": {},
   "outputs": [],
   "source": [
    "records_py_geocoded = records_py_nogps"
   ]
  },
  {
   "cell_type": "code",
   "execution_count": null,
   "metadata": {},
   "outputs": [],
   "source": [
    "# Save to pikle file\n",
    "objects_store = records_py_geocoded\n",
    "open_file = open('../Data/Outputs/db_primeyield_ini.piclo', \"wb\")\n",
    "pickle.dump(objects_store, open_file)\n",
    "open_file.close()\n",
    "\n",
    "\n",
    "\"\"\" open_file = open('../Data/Outputs/db_primeyield_ini.piclo', \"rb\")\n",
    "records_py_nogps = pickle.load(open_file)\n",
    "open_file.close() \"\"\""
   ]
  }
 ],
 "metadata": {
  "kernelspec": {
   "display_name": "geopreprocess",
   "language": "python",
   "name": "python3"
  },
  "language_info": {
   "codemirror_mode": {
    "name": "ipython",
    "version": 3
   },
   "file_extension": ".py",
   "mimetype": "text/x-python",
   "name": "python",
   "nbconvert_exporter": "python",
   "pygments_lexer": "ipython3",
   "version": "3.11.0"
  },
  "orig_nbformat": 4
 },
 "nbformat": 4,
 "nbformat_minor": 2
}
