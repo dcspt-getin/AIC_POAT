{
 "cells": [
  {
   "attachments": {},
   "cell_type": "markdown",
   "metadata": {},
   "source": [
    "# REQUISITOS\n",
    "Este notebook exige a prévia instalação do sistema de processamento de dados \"PyTorch\" disponível em: https://pytorch.org/\n",
    "Além do requisito anterior, como é habitual, para correr este notebook é necessária a instalação do Python e de um conjunto de bibliotecas. Para facilitar a instalação, recomenda-se a instalação do [Anaconda](https://www.anaconda.com/products/individual) e criação de um ambiente a partir do ficheiro  ModellingWithTork.yml disponibilizado na pasta [Conda and PIP env]. Alternativamente, pode-se instalar as bibliotecas usando o comando pip install -r requirements_ModellingWithTork.yml.txt na linha de comandos\n"
   ]
  },
  {
   "attachments": {},
   "cell_type": "markdown",
   "metadata": {},
   "source": [
    "# DESCRIÇÃO\n",
    "Este notebook é dedicado ao processo de criação de (protótipos) de Unidades Territoriais de Base, partindo da prévia georeferenciação de \"zonas\" na rede de estradas da área de estudo.\n",
    "Por forma a obter a georeferenciação e delimitação das unidades territoriais de base, neste notebook procede-se à classificação / atribuição dos nós da rede de estradas sem uma zona atríbuida, através da abordagem de \"propagação de rótulos\"  \"Label Propagation\" e \"Label Spreading\"\n"
   ]
  },
  {
   "attachments": {},
   "cell_type": "markdown",
   "metadata": {},
   "source": [
    "# IMPORTS"
   ]
  },
  {
   "cell_type": "code",
   "execution_count": 64,
   "metadata": {},
   "outputs": [],
   "source": [
    "import pandas as pd \n",
    "import numpy as np\n",
    "\n",
    "import geopandas as gpd\n",
    "\n",
    "\n",
    "import seaborn as sns\n",
    "\n",
    "# Livrarias para ler dados do openstreetmaps e representação da rede de estradas como um grafo\n",
    "#import osmnx as ox\n",
    "import networkx as nx\n",
    "\n",
    "import re\n",
    "\n",
    "#import pgeocode as pgc\n",
    "#import geopy\n",
    "\n",
    "import time\n",
    "\n",
    "import matplotlib.pyplot as plt\n",
    "\n",
    "import os\n",
    "\n",
    "import pickle \n",
    "\n",
    "\n",
    "from abc import abstractmethod\n",
    "import torch\n",
    "\n",
    "\n"
   ]
  },
  {
   "cell_type": "code",
   "execution_count": 65,
   "metadata": {},
   "outputs": [],
   "source": [
    "from tqdm import tqdm\n",
    "#{progress in percentage} | {bar} | {processed}/{total} [{elapsed time}<{remaining time}, {number of iterations per seconds} it/s]"
   ]
  },
  {
   "cell_type": "markdown",
   "metadata": {},
   "source": [
    "# BASE FUNCTIONS"
   ]
  },
  {
   "cell_type": "code",
   "execution_count": 69,
   "metadata": {},
   "outputs": [],
   "source": [
    "# Code retrieve from here: https://datascience.stackexchange.com/questions/45459/how-to-use-scikit-learn-label-propagation-on-graph-structured-data/55720#55720 \n",
    "# »» label propagation/label spreading on graph-structured data\n",
    "# »» https://scikit-learn.org/stable/modules/generated/sklearn.semi_supervised.LabelPropagation.html  \n",
    "\n",
    "class BaseLabelPropagation:\n",
    "    \"\"\"Base class for label propagation models.\n",
    "    \n",
    "    Parameters\n",
    "    ----------\n",
    "    adj_matrix: torch.FloatTensor\n",
    "        Adjacency matrix of the graph.\n",
    "    \"\"\"\n",
    "    def __init__(self, adj_matrix):\n",
    "        self.norm_adj_matrix = self._normalize(adj_matrix)\n",
    "        self.n_nodes = adj_matrix.size(0)\n",
    "        self.one_hot_labels = None \n",
    "        self.n_classes = None\n",
    "        self.labeled_mask = None\n",
    "        self.predictions = None\n",
    "\n",
    "    @staticmethod\n",
    "    @abstractmethod\n",
    "    def _normalize(adj_matrix):\n",
    "        raise NotImplementedError(\"_normalize must be implemented\")\n",
    "\n",
    "    @abstractmethod\n",
    "    def _propagate(self):\n",
    "        raise NotImplementedError(\"_propagate must be implemented\")\n",
    "\n",
    "    def _one_hot_encode(self, labels):\n",
    "        # Get the number of classes\n",
    "        classes = torch.unique(labels)\n",
    "        classes = classes[classes != -1]\n",
    "        self.n_classes = classes.size(0)\n",
    "\n",
    "        # One-hot encode labeled data instances and zero rows corresponding to unlabeled instances\n",
    "        unlabeled_mask = (labels == -1)\n",
    "        labels = labels.clone()  # defensive copying\n",
    "        labels[unlabeled_mask] = 0\n",
    "        self.one_hot_labels = torch.zeros((self.n_nodes, self.n_classes), dtype=torch.float)\n",
    "        self.one_hot_labels = self.one_hot_labels.scatter(1, labels.unsqueeze(1), 1)\n",
    "        self.one_hot_labels[unlabeled_mask, 0] = 0\n",
    "\n",
    "        self.labeled_mask = ~unlabeled_mask\n",
    "\n",
    "    def fit(self, labels, max_iter, tol):\n",
    "        \"\"\"Fits a semi-supervised learning label propagation model.\n",
    "        \n",
    "        labels: torch.LongTensor\n",
    "            Tensor of size n_nodes indicating the class number of each node.\n",
    "            Unlabeled nodes are denoted with -1.\n",
    "        max_iter: int\n",
    "            Maximum number of iterations allowed.\n",
    "        tol: float\n",
    "            Convergence tolerance: threshold to consider the system at steady state.\n",
    "        \"\"\"\n",
    "        self._one_hot_encode(labels)\n",
    "\n",
    "        self.predictions = self.one_hot_labels.clone()\n",
    "        prev_predictions = torch.zeros((self.n_nodes, self.n_classes), dtype=torch.float)\n",
    "\n",
    "        for i in range(max_iter):\n",
    "            # Stop iterations if the system is considered at a steady state\n",
    "            variation = torch.abs(self.predictions - prev_predictions).sum().item()\n",
    "            \n",
    "            if variation < tol:\n",
    "                print(f\"The method stopped after {i} iterations, variation={variation:.4f}.\")\n",
    "                break\n",
    "\n",
    "            prev_predictions = self.predictions\n",
    "            self._propagate()\n",
    "\n",
    "    def predict(self):\n",
    "        return self.predictions\n",
    "\n",
    "    def predict_classes(self):\n",
    "        return self.predictions.max(dim=1).indices\n",
    "\n",
    "# LABEL PROPAGATION ALGORITHM\n",
    "\n",
    "class LabelPropagation(BaseLabelPropagation):\n",
    "    def __init__(self, adj_matrix):\n",
    "        super().__init__(adj_matrix)\n",
    "\n",
    "    @staticmethod\n",
    "    def _normalize(adj_matrix):\n",
    "        \"\"\"Computes D^-1 * W\"\"\"\n",
    "        degs = adj_matrix.sum(dim=1)\n",
    "        degs[degs == 0] = 1  # avoid division by 0 error\n",
    "        return adj_matrix / degs[:, None]\n",
    "\n",
    "    def _propagate(self):\n",
    "        self.predictions = torch.matmul(self.norm_adj_matrix, self.predictions)\n",
    "\n",
    "        # Put back already known labels\n",
    "        self.predictions[self.labeled_mask] = self.one_hot_labels[self.labeled_mask]\n",
    "\n",
    "    def fit(self, labels, max_iter=1000, tol=1e-3):\n",
    "        super().fit(labels, max_iter, tol)\n",
    "\n",
    "\n",
    "class LabelSpreading(BaseLabelPropagation):\n",
    "    def __init__(self, adj_matrix):\n",
    "        super().__init__(adj_matrix)\n",
    "        self.alpha = None\n",
    "\n",
    "    @staticmethod\n",
    "    def _normalize(adj_matrix):\n",
    "        \"\"\"Computes D^-1/2 * W * D^-1/2\"\"\"\n",
    "        degs = adj_matrix.sum(dim=1)\n",
    "        norm = torch.pow(degs, -0.5)\n",
    "        norm[torch.isinf(norm)] = 1\n",
    "        return adj_matrix * norm[:, None] * norm[None, :]\n",
    "\n",
    "    def _propagate(self):\n",
    "        self.predictions = (\n",
    "            self.alpha * torch.matmul(self.norm_adj_matrix, self.predictions)\n",
    "            + (1 - self.alpha) * self.one_hot_labels\n",
    "        )\n",
    "    \n",
    "    def fit(self, labels, max_iter=1000, tol=1e-3, alpha=0.5):\n",
    "        \"\"\"\n",
    "        Parameters\n",
    "        ----------\n",
    "        alpha: float\n",
    "            Clamping factor.\n",
    "        \"\"\"\n",
    "        self.alpha = alpha\n",
    "        super().fit(labels, max_iter, tol)\n"
   ]
  },
  {
   "attachments": {},
   "cell_type": "markdown",
   "metadata": {},
   "source": [
    "# MODEL 1 :: AVRILH ORI NET"
   ]
  },
  {
   "attachments": {},
   "cell_type": "markdown",
   "metadata": {},
   "source": [
    "## Get Data"
   ]
  },
  {
   "cell_type": "code",
   "execution_count": 70,
   "metadata": {},
   "outputs": [
    {
     "name": "stderr",
     "output_type": "stream",
     "text": [
      "C:\\Users\\pauloricardolb\\AppData\\Local\\Temp\\ipykernel_30024\\2415597971.py:1: UserWarning: Unpickling a shapely <2.0 geometry object. Please save the pickle again; shapely 2.1 will not have this compatibility.\n",
      "  avrilh_network_wgs84 = pickle.load(open(sourcePIKLE + '/avrilh_network_wgs84.pkl', \"rb\"))\n"
     ]
    }
   ],
   "source": [
    "avrilh_network_wgs84 = pickle.load(open('../Data/Intermediates/avrilh_network_wgs84.pkl', \"rb\"))\n",
    "avrilh_network_wgs84_dfnodes = pickle.load(open('../Data/Intermediates/avrilh_network_wgs84_dfnodes.pkl', \"rb\"))\n",
    "\n"
   ]
  },
  {
   "attachments": {},
   "cell_type": "markdown",
   "metadata": {},
   "source": [
    "## Pre Processing"
   ]
  },
  {
   "attachments": {},
   "cell_type": "markdown",
   "metadata": {},
   "source": [
    "### Build Adjacency Matrix - Contiguity"
   ]
  },
  {
   "cell_type": "code",
   "execution_count": 71,
   "metadata": {},
   "outputs": [
    {
     "data": {
      "text/plain": [
       "array([[0, 1, 0, ..., 0, 0, 0],\n",
       "       [0, 0, 0, ..., 0, 0, 0],\n",
       "       [0, 0, 0, ..., 0, 0, 0],\n",
       "       ...,\n",
       "       [0, 0, 0, ..., 0, 0, 0],\n",
       "       [0, 0, 0, ..., 0, 0, 1],\n",
       "       [0, 0, 0, ..., 0, 1, 0]], dtype=int32)"
      ]
     },
     "execution_count": 71,
     "metadata": {},
     "output_type": "execute_result"
    }
   ],
   "source": [
    "Adj_matrix_contig = nx.adjacency_matrix(avrilh_network_wgs84).toarray() #weight='length'\n",
    "Adj_matrix_contig"
   ]
  },
  {
   "cell_type": "code",
   "execution_count": 72,
   "metadata": {},
   "outputs": [
    {
     "data": {
      "text/plain": [
       "(10886, 10886)"
      ]
     },
     "execution_count": 72,
     "metadata": {},
     "output_type": "execute_result"
    }
   ],
   "source": [
    "Adj_matrix_contig.shape"
   ]
  },
  {
   "attachments": {},
   "cell_type": "markdown",
   "metadata": {},
   "source": [
    "### Build Adjacency Matrix - GeoNetDistance"
   ]
  },
  {
   "cell_type": "code",
   "execution_count": 73,
   "metadata": {},
   "outputs": [
    {
     "data": {
      "text/plain": [
       "array([[  0.   , 663.071,   0.   , ...,   0.   ,   0.   ,   0.   ],\n",
       "       [  0.   ,   0.   ,   0.   , ...,   0.   ,   0.   ,   0.   ],\n",
       "       [  0.   ,   0.   ,   0.   , ...,   0.   ,   0.   ,   0.   ],\n",
       "       ...,\n",
       "       [  0.   ,   0.   ,   0.   , ...,   0.   ,   0.   ,   0.   ],\n",
       "       [  0.   ,   0.   ,   0.   , ...,   0.   ,   0.   , 655.549],\n",
       "       [  0.   ,   0.   ,   0.   , ...,   0.   , 655.549,   0.   ]])"
      ]
     },
     "execution_count": 73,
     "metadata": {},
     "output_type": "execute_result"
    }
   ],
   "source": [
    "Adj_matrix_dist = nx.adjacency_matrix(avrilh_network_wgs84, weight='length').toarray() #weight='length'\n",
    "Adj_matrix_dist"
   ]
  },
  {
   "cell_type": "code",
   "execution_count": 74,
   "metadata": {},
   "outputs": [
    {
     "name": "stdout",
     "output_type": "stream",
     "text": [
      "(10886, 10886)\n"
     ]
    },
    {
     "data": {
      "text/plain": [
       "array([[0.        , 0.6232708 , 0.        , ..., 0.        , 0.        ,\n",
       "        0.        ],\n",
       "       [0.        , 0.        , 0.        , ..., 0.        , 0.        ,\n",
       "        0.        ],\n",
       "       [0.        , 0.        , 0.        , ..., 0.        , 0.        ,\n",
       "        0.        ],\n",
       "       ...,\n",
       "       [0.        , 0.        , 0.        , ..., 0.        , 0.        ,\n",
       "        0.        ],\n",
       "       [0.        , 0.        , 0.        , ..., 0.        , 0.        ,\n",
       "        0.86724761],\n",
       "       [0.        , 0.        , 0.        , ..., 0.        , 0.43360057,\n",
       "        0.        ]])"
      ]
     },
     "execution_count": 74,
     "metadata": {},
     "output_type": "execute_result"
    }
   ],
   "source": [
    "#Normalize adjacency distance matrix by row\n",
    "\n",
    "import sklearn.preprocessing\n",
    "Adj_matrix_dist_normal = sklearn.preprocessing.normalize(Adj_matrix_dist, norm=\"l1\")\n",
    "print(Adj_matrix_dist_normal.shape)\n",
    "Adj_matrix_dist_normal\n"
   ]
  },
  {
   "cell_type": "code",
   "execution_count": 75,
   "metadata": {},
   "outputs": [
    {
     "data": {
      "text/plain": [
       "Index(['y', 'x', 'ref', 'highway', 'street_count', 'NODE_ZONE_CS'], dtype='object')"
      ]
     },
     "execution_count": 75,
     "metadata": {},
     "output_type": "execute_result"
    }
   ],
   "source": [
    "avrilh_network_wgs84_dfnodes.columns"
   ]
  },
  {
   "cell_type": "code",
   "execution_count": 76,
   "metadata": {},
   "outputs": [
    {
     "data": {
      "text/html": [
       "<div>\n",
       "<style scoped>\n",
       "    .dataframe tbody tr th:only-of-type {\n",
       "        vertical-align: middle;\n",
       "    }\n",
       "\n",
       "    .dataframe tbody tr th {\n",
       "        vertical-align: top;\n",
       "    }\n",
       "\n",
       "    .dataframe thead th {\n",
       "        text-align: right;\n",
       "    }\n",
       "</style>\n",
       "<table border=\"1\" class=\"dataframe\">\n",
       "  <thead>\n",
       "    <tr style=\"text-align: right;\">\n",
       "      <th></th>\n",
       "      <th>NODE_ZONE_CS</th>\n",
       "    </tr>\n",
       "  </thead>\n",
       "  <tbody>\n",
       "    <tr>\n",
       "      <th>26018652</th>\n",
       "      <td>-1</td>\n",
       "    </tr>\n",
       "    <tr>\n",
       "      <th>26018669</th>\n",
       "      <td>-1</td>\n",
       "    </tr>\n",
       "    <tr>\n",
       "      <th>26018671</th>\n",
       "      <td>-1</td>\n",
       "    </tr>\n",
       "    <tr>\n",
       "      <th>26019628</th>\n",
       "      <td>-1</td>\n",
       "    </tr>\n",
       "    <tr>\n",
       "      <th>26019631</th>\n",
       "      <td>-1</td>\n",
       "    </tr>\n",
       "    <tr>\n",
       "      <th>...</th>\n",
       "      <td>...</td>\n",
       "    </tr>\n",
       "    <tr>\n",
       "      <th>10691051533</th>\n",
       "      <td>-1</td>\n",
       "    </tr>\n",
       "    <tr>\n",
       "      <th>10691051542</th>\n",
       "      <td>-1</td>\n",
       "    </tr>\n",
       "    <tr>\n",
       "      <th>10691051583</th>\n",
       "      <td>-1</td>\n",
       "    </tr>\n",
       "    <tr>\n",
       "      <th>10691051596</th>\n",
       "      <td>-1</td>\n",
       "    </tr>\n",
       "    <tr>\n",
       "      <th>10691051650</th>\n",
       "      <td>-1</td>\n",
       "    </tr>\n",
       "  </tbody>\n",
       "</table>\n",
       "<p>10886 rows × 1 columns</p>\n",
       "</div>"
      ],
      "text/plain": [
       "             NODE_ZONE_CS\n",
       "26018652               -1\n",
       "26018669               -1\n",
       "26018671               -1\n",
       "26019628               -1\n",
       "26019631               -1\n",
       "...                   ...\n",
       "10691051533            -1\n",
       "10691051542            -1\n",
       "10691051583            -1\n",
       "10691051596            -1\n",
       "10691051650            -1\n",
       "\n",
       "[10886 rows x 1 columns]"
      ]
     },
     "execution_count": 76,
     "metadata": {},
     "output_type": "execute_result"
    }
   ],
   "source": [
    "avrilh_network_wgs84_dfnodes[[\"NODE_ZONE_CS\"]]"
   ]
  },
  {
   "cell_type": "code",
   "execution_count": 77,
   "metadata": {},
   "outputs": [
    {
     "data": {
      "text/plain": [
       "array([-1, -1, -1, ..., -1, -1, -1], dtype=int64)"
      ]
     },
     "execution_count": 77,
     "metadata": {},
     "output_type": "execute_result"
    }
   ],
   "source": [
    "avrilh_network_wgs84_dfnodes[[\"NODE_ZONE_CS\"]].values.flatten()\n"
   ]
  },
  {
   "attachments": {},
   "cell_type": "markdown",
   "metadata": {},
   "source": [
    "### Build PyTorch objects"
   ]
  },
  {
   "cell_type": "code",
   "execution_count": 78,
   "metadata": {},
   "outputs": [],
   "source": [
    "import torch\n",
    "\n",
    "\n",
    "labels_t = torch.LongTensor(avrilh_network_wgs84_dfnodes[[\"NODE_ZONE_CS\"]].values.flatten())\n",
    "\n",
    "# Create input tensors\n",
    "Adj_matrix_dist_RowNorm_t = torch.FloatTensor(Adj_matrix_dist_normal)\n",
    "Adj_matrix_contig_t = torch.FloatTensor(Adj_matrix_contig)\n",
    "\n",
    "\n",
    "\n"
   ]
  },
  {
   "cell_type": "code",
   "execution_count": 79,
   "metadata": {},
   "outputs": [
    {
     "data": {
      "text/plain": [
       "torch.Size([10886])"
      ]
     },
     "execution_count": 79,
     "metadata": {},
     "output_type": "execute_result"
    }
   ],
   "source": [
    "labels_t.shape"
   ]
  },
  {
   "cell_type": "code",
   "execution_count": 80,
   "metadata": {},
   "outputs": [
    {
     "data": {
      "text/plain": [
       "torch.Size([10886, 10886])"
      ]
     },
     "execution_count": 80,
     "metadata": {},
     "output_type": "execute_result"
    }
   ],
   "source": [
    "Adj_matrix_dist_RowNorm_t.shape"
   ]
  },
  {
   "attachments": {},
   "cell_type": "markdown",
   "metadata": {},
   "source": [
    "## Modelling"
   ]
  },
  {
   "attachments": {},
   "cell_type": "markdown",
   "metadata": {},
   "source": [
    "### Modelling 1a1 :: LabelPropag + AdjMat_Contiguity"
   ]
  },
  {
   "cell_type": "code",
   "execution_count": 81,
   "metadata": {},
   "outputs": [
    {
     "name": "stdout",
     "output_type": "stream",
     "text": [
      "Model 1 - Label Propagatiom :: AdjMatrix Contig : "
     ]
    },
    {
     "data": {
      "text/plain": [
       "tensor([72,  0, 72,  ..., 98, 98, 98])"
      ]
     },
     "execution_count": 81,
     "metadata": {},
     "output_type": "execute_result"
    }
   ],
   "source": [
    "# Learn with Label Propagation\n",
    "model1a1_LP_AdjMatCont_AVRILH_Ori_FullNetwork = LabelPropagation(Adj_matrix_contig_t)\n",
    "print(\"Model 1 - Label Propagatiom :: AdjMatrix Contig : \", end=\"\")\n",
    "model1a1_LP_AdjMatCont_AVRILH_Ori_FullNetwork.fit(labels_t)\n",
    "model1a1_LP_AdjMatCont_AVRILH_Ori_FullNetwork_LABELS = model1a1_LP_AdjMatCont_AVRILH_Ori_FullNetwork.predict_classes()\n",
    "model1a1_LP_AdjMatCont_AVRILH_Ori_FullNetwork_LABELS"
   ]
  },
  {
   "attachments": {},
   "cell_type": "markdown",
   "metadata": {},
   "source": [
    "### Modelling 1a2 :: LabelPropag + AdjMat_GeoNetDistance"
   ]
  },
  {
   "cell_type": "code",
   "execution_count": 82,
   "metadata": {},
   "outputs": [
    {
     "name": "stdout",
     "output_type": "stream",
     "text": [
      "Model 1 - Label Propagation :: AdjMatrix GeoNetDist : "
     ]
    },
    {
     "data": {
      "text/plain": [
       "tensor([72,  0, 72,  ..., 98, 98, 98])"
      ]
     },
     "execution_count": 82,
     "metadata": {},
     "output_type": "execute_result"
    }
   ],
   "source": [
    "# Learn with Label Propagation\n",
    "model1a2_LP_AdjMatCont_AVRILH_Ori_FullNetwork = LabelPropagation(Adj_matrix_dist_RowNorm_t)\n",
    "print(\"Model 1 - Label Propagation :: AdjMatrix GeoNetDist : \", end=\"\")\n",
    "model1a2_LP_AdjMatCont_AVRILH_Ori_FullNetwork.fit(labels_t)\n",
    "model1a2_LP_AdjMatCont_AVRILH_Ori_FullNetwork_LABELS = model1a2_LP_AdjMatCont_AVRILH_Ori_FullNetwork.predict_classes()\n",
    "model1a2_LP_AdjMatCont_AVRILH_Ori_FullNetwork_LABELS"
   ]
  },
  {
   "attachments": {},
   "cell_type": "markdown",
   "metadata": {},
   "source": [
    "### Modelling 1b1 :: LabelSpread + AdjMat_Contiguity"
   ]
  },
  {
   "cell_type": "code",
   "execution_count": 83,
   "metadata": {},
   "outputs": [
    {
     "name": "stdout",
     "output_type": "stream",
     "text": [
      "Model 1 - Label Spreading :: AdjMatrix Contig : The method stopped after 17 iterations, variation=0.0007.\n"
     ]
    },
    {
     "data": {
      "text/plain": [
       "tensor([72,  0, 72,  ..., 98, 98, 98])"
      ]
     },
     "execution_count": 83,
     "metadata": {},
     "output_type": "execute_result"
    }
   ],
   "source": [
    "# Learn with Label Propagation\n",
    "model1b1_LP_AdjMatCont_AVRILH_Ori_FullNetwork = LabelSpreading(Adj_matrix_contig_t)\n",
    "print(\"Model 1 - Label Spreading :: AdjMatrix Contig : \", end=\"\")\n",
    "model1b1_LP_AdjMatCont_AVRILH_Ori_FullNetwork.fit(labels_t)\n",
    "model1b1_LP_AdjMatCont_AVRILH_Ori_FullNetwork_LABELS = model1b1_LP_AdjMatCont_AVRILH_Ori_FullNetwork.predict_classes()\n",
    "model1b1_LP_AdjMatCont_AVRILH_Ori_FullNetwork_LABELS"
   ]
  },
  {
   "attachments": {},
   "cell_type": "markdown",
   "metadata": {},
   "source": [
    "### Modelling 1b2 :: LabelSpread + AdjMat_GeoNetDistance"
   ]
  },
  {
   "cell_type": "code",
   "execution_count": 84,
   "metadata": {},
   "outputs": [
    {
     "name": "stdout",
     "output_type": "stream",
     "text": [
      "Model 1 - Label Spreading :: AdjMatrix GeoNetDist : The method stopped after 18 iterations, variation=0.0007.\n"
     ]
    },
    {
     "data": {
      "text/plain": [
       "tensor([72,  0, 72,  ..., 98, 98, 98])"
      ]
     },
     "execution_count": 84,
     "metadata": {},
     "output_type": "execute_result"
    }
   ],
   "source": [
    "# Learn with Label Propagation\n",
    "model1b2_LP_AdjMatCont_AVRILH_Ori_FullNetwork = LabelSpreading(Adj_matrix_dist_RowNorm_t)\n",
    "print(\"Model 1 - Label Spreading :: AdjMatrix GeoNetDist : \", end=\"\")\n",
    "model1b2_LP_AdjMatCont_AVRILH_Ori_FullNetwork.fit(labels_t)\n",
    "model1b2_LP_AdjMatCont_AVRILH_Ori_FullNetwork_LABELS = model1b2_LP_AdjMatCont_AVRILH_Ori_FullNetwork.predict_classes()\n",
    "model1b2_LP_AdjMatCont_AVRILH_Ori_FullNetwork_LABELS"
   ]
  },
  {
   "attachments": {},
   "cell_type": "markdown",
   "metadata": {},
   "source": [
    "## Final processing"
   ]
  },
  {
   "cell_type": "code",
   "execution_count": 85,
   "metadata": {},
   "outputs": [
    {
     "data": {
      "text/html": [
       "<div>\n",
       "<style scoped>\n",
       "    .dataframe tbody tr th:only-of-type {\n",
       "        vertical-align: middle;\n",
       "    }\n",
       "\n",
       "    .dataframe tbody tr th {\n",
       "        vertical-align: top;\n",
       "    }\n",
       "\n",
       "    .dataframe thead th {\n",
       "        text-align: right;\n",
       "    }\n",
       "</style>\n",
       "<table border=\"1\" class=\"dataframe\">\n",
       "  <thead>\n",
       "    <tr style=\"text-align: right;\">\n",
       "      <th></th>\n",
       "      <th>y</th>\n",
       "      <th>x</th>\n",
       "      <th>ref</th>\n",
       "      <th>highway</th>\n",
       "      <th>street_count</th>\n",
       "      <th>NODE_ZONE_CS</th>\n",
       "    </tr>\n",
       "  </thead>\n",
       "  <tbody>\n",
       "    <tr>\n",
       "      <th>26018652</th>\n",
       "      <td>40.573359</td>\n",
       "      <td>-8.561106</td>\n",
       "      <td>15</td>\n",
       "      <td>motorway_junction</td>\n",
       "      <td>3</td>\n",
       "      <td>-1</td>\n",
       "    </tr>\n",
       "    <tr>\n",
       "      <th>26018669</th>\n",
       "      <td>40.567454</td>\n",
       "      <td>-8.560672</td>\n",
       "      <td>NaN</td>\n",
       "      <td>NaN</td>\n",
       "      <td>3</td>\n",
       "      <td>-1</td>\n",
       "    </tr>\n",
       "    <tr>\n",
       "      <th>26018671</th>\n",
       "      <td>40.568421</td>\n",
       "      <td>-8.560302</td>\n",
       "      <td>15</td>\n",
       "      <td>motorway_junction</td>\n",
       "      <td>3</td>\n",
       "      <td>-1</td>\n",
       "    </tr>\n",
       "    <tr>\n",
       "      <th>26019628</th>\n",
       "      <td>40.627240</td>\n",
       "      <td>-8.730450</td>\n",
       "      <td>1</td>\n",
       "      <td>motorway_junction</td>\n",
       "      <td>3</td>\n",
       "      <td>-1</td>\n",
       "    </tr>\n",
       "    <tr>\n",
       "      <th>26019631</th>\n",
       "      <td>40.625874</td>\n",
       "      <td>-8.726227</td>\n",
       "      <td>1A</td>\n",
       "      <td>motorway_junction</td>\n",
       "      <td>3</td>\n",
       "      <td>-1</td>\n",
       "    </tr>\n",
       "  </tbody>\n",
       "</table>\n",
       "</div>"
      ],
      "text/plain": [
       "                  y         x  ref            highway  street_count  \\\n",
       "26018652  40.573359 -8.561106   15  motorway_junction             3   \n",
       "26018669  40.567454 -8.560672  NaN                NaN             3   \n",
       "26018671  40.568421 -8.560302   15  motorway_junction             3   \n",
       "26019628  40.627240 -8.730450    1  motorway_junction             3   \n",
       "26019631  40.625874 -8.726227   1A  motorway_junction             3   \n",
       "\n",
       "          NODE_ZONE_CS  \n",
       "26018652            -1  \n",
       "26018669            -1  \n",
       "26018671            -1  \n",
       "26019628            -1  \n",
       "26019631            -1  "
      ]
     },
     "execution_count": 85,
     "metadata": {},
     "output_type": "execute_result"
    }
   ],
   "source": [
    "avrilh_network_wgs84_dfnodes.head()"
   ]
  },
  {
   "cell_type": "code",
   "execution_count": 86,
   "metadata": {},
   "outputs": [],
   "source": [
    "avrilh_network_wgs84_dfnodes_LABELED_Part1 = avrilh_network_wgs84_dfnodes.copy()"
   ]
  },
  {
   "cell_type": "code",
   "execution_count": 87,
   "metadata": {},
   "outputs": [
    {
     "name": "stdout",
     "output_type": "stream",
     "text": [
      "<class 'pandas.core.frame.DataFrame'>\n"
     ]
    },
    {
     "data": {
      "text/html": [
       "<div>\n",
       "<style scoped>\n",
       "    .dataframe tbody tr th:only-of-type {\n",
       "        vertical-align: middle;\n",
       "    }\n",
       "\n",
       "    .dataframe tbody tr th {\n",
       "        vertical-align: top;\n",
       "    }\n",
       "\n",
       "    .dataframe thead th {\n",
       "        text-align: right;\n",
       "    }\n",
       "</style>\n",
       "<table border=\"1\" class=\"dataframe\">\n",
       "  <thead>\n",
       "    <tr style=\"text-align: right;\">\n",
       "      <th></th>\n",
       "      <th>NODE_ID</th>\n",
       "      <th>y</th>\n",
       "      <th>x</th>\n",
       "      <th>NODE_ZONE_CS</th>\n",
       "    </tr>\n",
       "  </thead>\n",
       "  <tbody>\n",
       "    <tr>\n",
       "      <th>0</th>\n",
       "      <td>26018652</td>\n",
       "      <td>40.573359</td>\n",
       "      <td>-8.561106</td>\n",
       "      <td>-1</td>\n",
       "    </tr>\n",
       "    <tr>\n",
       "      <th>1</th>\n",
       "      <td>26018669</td>\n",
       "      <td>40.567454</td>\n",
       "      <td>-8.560672</td>\n",
       "      <td>-1</td>\n",
       "    </tr>\n",
       "    <tr>\n",
       "      <th>2</th>\n",
       "      <td>26018671</td>\n",
       "      <td>40.568421</td>\n",
       "      <td>-8.560302</td>\n",
       "      <td>-1</td>\n",
       "    </tr>\n",
       "    <tr>\n",
       "      <th>3</th>\n",
       "      <td>26019628</td>\n",
       "      <td>40.627240</td>\n",
       "      <td>-8.730450</td>\n",
       "      <td>-1</td>\n",
       "    </tr>\n",
       "    <tr>\n",
       "      <th>4</th>\n",
       "      <td>26019631</td>\n",
       "      <td>40.625874</td>\n",
       "      <td>-8.726227</td>\n",
       "      <td>-1</td>\n",
       "    </tr>\n",
       "  </tbody>\n",
       "</table>\n",
       "</div>"
      ],
      "text/plain": [
       "    NODE_ID          y         x  NODE_ZONE_CS\n",
       "0  26018652  40.573359 -8.561106            -1\n",
       "1  26018669  40.567454 -8.560672            -1\n",
       "2  26018671  40.568421 -8.560302            -1\n",
       "3  26019628  40.627240 -8.730450            -1\n",
       "4  26019631  40.625874 -8.726227            -1"
      ]
     },
     "execution_count": 87,
     "metadata": {},
     "output_type": "execute_result"
    }
   ],
   "source": [
    "avrilh_network_wgs84_dfnodes_LABELED_Part1.reset_index(inplace=True)\n",
    "avrilh_network_wgs84_dfnodes_LABELED_Part1.drop(columns=[\"ref\",\t\"highway\", \"street_count\"], inplace=True)\n",
    "avrilh_network_wgs84_dfnodes_LABELED_Part1.rename(columns={\"index\":\"NODE_ID\"}, inplace=True)\n",
    "print(type(avrilh_network_wgs84_dfnodes_LABELED_Part1))\n",
    "avrilh_network_wgs84_dfnodes_LABELED_Part1.head()"
   ]
  },
  {
   "cell_type": "code",
   "execution_count": 88,
   "metadata": {},
   "outputs": [
    {
     "data": {
      "text/html": [
       "<div>\n",
       "<style scoped>\n",
       "    .dataframe tbody tr th:only-of-type {\n",
       "        vertical-align: middle;\n",
       "    }\n",
       "\n",
       "    .dataframe tbody tr th {\n",
       "        vertical-align: top;\n",
       "    }\n",
       "\n",
       "    .dataframe thead th {\n",
       "        text-align: right;\n",
       "    }\n",
       "</style>\n",
       "<table border=\"1\" class=\"dataframe\">\n",
       "  <thead>\n",
       "    <tr style=\"text-align: right;\">\n",
       "      <th></th>\n",
       "      <th>NODE_ID</th>\n",
       "      <th>y</th>\n",
       "      <th>x</th>\n",
       "      <th>NODE_ZONE_CS</th>\n",
       "      <th>M1LABELS_LP_AdjMatContig</th>\n",
       "      <th>M1LABELS_LP_AdjMatGeoNetDist</th>\n",
       "      <th>M1LABELS_LS_AdjMatContig</th>\n",
       "      <th>M1LABELS_LS_AdjMatGeoNetDist</th>\n",
       "    </tr>\n",
       "  </thead>\n",
       "  <tbody>\n",
       "    <tr>\n",
       "      <th>0</th>\n",
       "      <td>26018652</td>\n",
       "      <td>40.573359</td>\n",
       "      <td>-8.561106</td>\n",
       "      <td>-1</td>\n",
       "      <td>72</td>\n",
       "      <td>72</td>\n",
       "      <td>72</td>\n",
       "      <td>72</td>\n",
       "    </tr>\n",
       "    <tr>\n",
       "      <th>1</th>\n",
       "      <td>26018669</td>\n",
       "      <td>40.567454</td>\n",
       "      <td>-8.560672</td>\n",
       "      <td>-1</td>\n",
       "      <td>0</td>\n",
       "      <td>0</td>\n",
       "      <td>0</td>\n",
       "      <td>0</td>\n",
       "    </tr>\n",
       "    <tr>\n",
       "      <th>2</th>\n",
       "      <td>26018671</td>\n",
       "      <td>40.568421</td>\n",
       "      <td>-8.560302</td>\n",
       "      <td>-1</td>\n",
       "      <td>72</td>\n",
       "      <td>72</td>\n",
       "      <td>72</td>\n",
       "      <td>72</td>\n",
       "    </tr>\n",
       "    <tr>\n",
       "      <th>3</th>\n",
       "      <td>26019628</td>\n",
       "      <td>40.627240</td>\n",
       "      <td>-8.730450</td>\n",
       "      <td>-1</td>\n",
       "      <td>81</td>\n",
       "      <td>81</td>\n",
       "      <td>49</td>\n",
       "      <td>49</td>\n",
       "    </tr>\n",
       "    <tr>\n",
       "      <th>4</th>\n",
       "      <td>26019631</td>\n",
       "      <td>40.625874</td>\n",
       "      <td>-8.726227</td>\n",
       "      <td>-1</td>\n",
       "      <td>50</td>\n",
       "      <td>86</td>\n",
       "      <td>50</td>\n",
       "      <td>86</td>\n",
       "    </tr>\n",
       "  </tbody>\n",
       "</table>\n",
       "</div>"
      ],
      "text/plain": [
       "    NODE_ID          y         x  NODE_ZONE_CS  M1LABELS_LP_AdjMatContig  \\\n",
       "0  26018652  40.573359 -8.561106            -1                        72   \n",
       "1  26018669  40.567454 -8.560672            -1                         0   \n",
       "2  26018671  40.568421 -8.560302            -1                        72   \n",
       "3  26019628  40.627240 -8.730450            -1                        81   \n",
       "4  26019631  40.625874 -8.726227            -1                        50   \n",
       "\n",
       "   M1LABELS_LP_AdjMatGeoNetDist  M1LABELS_LS_AdjMatContig  \\\n",
       "0                            72                        72   \n",
       "1                             0                         0   \n",
       "2                            72                        72   \n",
       "3                            81                        49   \n",
       "4                            86                        50   \n",
       "\n",
       "   M1LABELS_LS_AdjMatGeoNetDist  \n",
       "0                            72  \n",
       "1                             0  \n",
       "2                            72  \n",
       "3                            49  \n",
       "4                            86  "
      ]
     },
     "execution_count": 88,
     "metadata": {},
     "output_type": "execute_result"
    }
   ],
   "source": [
    "avrilh_network_wgs84_dfnodes_LABELED_Part1[\"M1LABELS_LP_AdjMatContig\"] = model1a1_LP_AdjMatCont_AVRILH_Ori_FullNetwork_LABELS\n",
    "avrilh_network_wgs84_dfnodes_LABELED_Part1[\"M1LABELS_LP_AdjMatGeoNetDist\"] = model1a2_LP_AdjMatCont_AVRILH_Ori_FullNetwork_LABELS\n",
    "avrilh_network_wgs84_dfnodes_LABELED_Part1[\"M1LABELS_LS_AdjMatContig\"] = model1b1_LP_AdjMatCont_AVRILH_Ori_FullNetwork_LABELS\n",
    "avrilh_network_wgs84_dfnodes_LABELED_Part1[\"M1LABELS_LS_AdjMatGeoNetDist\"] = model1b2_LP_AdjMatCont_AVRILH_Ori_FullNetwork_LABELS\n",
    "avrilh_network_wgs84_dfnodes_LABELED_Part1.head()"
   ]
  },
  {
   "cell_type": "code",
   "execution_count": 90,
   "metadata": {},
   "outputs": [
    {
     "data": {
      "text/html": [
       "<div>\n",
       "<style scoped>\n",
       "    .dataframe tbody tr th:only-of-type {\n",
       "        vertical-align: middle;\n",
       "    }\n",
       "\n",
       "    .dataframe tbody tr th {\n",
       "        vertical-align: top;\n",
       "    }\n",
       "\n",
       "    .dataframe thead th {\n",
       "        text-align: right;\n",
       "    }\n",
       "</style>\n",
       "<table border=\"1\" class=\"dataframe\">\n",
       "  <thead>\n",
       "    <tr style=\"text-align: right;\">\n",
       "      <th></th>\n",
       "      <th>NODE_ZONE_CS</th>\n",
       "    </tr>\n",
       "    <tr>\n",
       "      <th>M1LABELS_LP_AdjMatGeoNetDist</th>\n",
       "      <th></th>\n",
       "    </tr>\n",
       "  </thead>\n",
       "  <tbody>\n",
       "    <tr>\n",
       "      <th>0</th>\n",
       "      <td>45</td>\n",
       "    </tr>\n",
       "    <tr>\n",
       "      <th>1</th>\n",
       "      <td>10</td>\n",
       "    </tr>\n",
       "    <tr>\n",
       "      <th>2</th>\n",
       "      <td>183</td>\n",
       "    </tr>\n",
       "    <tr>\n",
       "      <th>3</th>\n",
       "      <td>96</td>\n",
       "    </tr>\n",
       "    <tr>\n",
       "      <th>4</th>\n",
       "      <td>117</td>\n",
       "    </tr>\n",
       "    <tr>\n",
       "      <th>...</th>\n",
       "      <td>...</td>\n",
       "    </tr>\n",
       "    <tr>\n",
       "      <th>127</th>\n",
       "      <td>55</td>\n",
       "    </tr>\n",
       "    <tr>\n",
       "      <th>128</th>\n",
       "      <td>54</td>\n",
       "    </tr>\n",
       "    <tr>\n",
       "      <th>129</th>\n",
       "      <td>21</td>\n",
       "    </tr>\n",
       "    <tr>\n",
       "      <th>130</th>\n",
       "      <td>18</td>\n",
       "    </tr>\n",
       "    <tr>\n",
       "      <th>131</th>\n",
       "      <td>179</td>\n",
       "    </tr>\n",
       "  </tbody>\n",
       "</table>\n",
       "<p>132 rows × 1 columns</p>\n",
       "</div>"
      ],
      "text/plain": [
       "                              NODE_ZONE_CS\n",
       "M1LABELS_LP_AdjMatGeoNetDist              \n",
       "0                                       45\n",
       "1                                       10\n",
       "2                                      183\n",
       "3                                       96\n",
       "4                                      117\n",
       "...                                    ...\n",
       "127                                     55\n",
       "128                                     54\n",
       "129                                     21\n",
       "130                                     18\n",
       "131                                    179\n",
       "\n",
       "[132 rows x 1 columns]"
      ]
     },
     "execution_count": 90,
     "metadata": {},
     "output_type": "execute_result"
    }
   ],
   "source": [
    "pd.pivot_table( avrilh_network_wgs84_dfnodes_LABELED_Part1 , values=\"NODE_ZONE_CS\", index=\"M1LABELS_LP_AdjMatGeoNetDist\", columns=None, aggfunc=np.count_nonzero, fill_value=0, margins=False, dropna=True, margins_name='All', observed=False, sort=True)"
   ]
  },
  {
   "cell_type": "code",
   "execution_count": 91,
   "metadata": {},
   "outputs": [
    {
     "data": {
      "text/html": [
       "<div>\n",
       "<style scoped>\n",
       "    .dataframe tbody tr th:only-of-type {\n",
       "        vertical-align: middle;\n",
       "    }\n",
       "\n",
       "    .dataframe tbody tr th {\n",
       "        vertical-align: top;\n",
       "    }\n",
       "\n",
       "    .dataframe thead th {\n",
       "        text-align: right;\n",
       "    }\n",
       "</style>\n",
       "<table border=\"1\" class=\"dataframe\">\n",
       "  <thead>\n",
       "    <tr style=\"text-align: right;\">\n",
       "      <th></th>\n",
       "      <th>NODE_ID</th>\n",
       "      <th>y</th>\n",
       "      <th>x</th>\n",
       "      <th>NODE_ZONE_CS</th>\n",
       "      <th>M1LABELS_LP_AdjMatContig</th>\n",
       "      <th>M1LABELS_LP_AdjMatGeoNetDist</th>\n",
       "      <th>M1LABELS_LS_AdjMatContig</th>\n",
       "      <th>M1LABELS_LS_AdjMatGeoNetDist</th>\n",
       "    </tr>\n",
       "  </thead>\n",
       "  <tbody>\n",
       "    <tr>\n",
       "      <th>0</th>\n",
       "      <td>26018652</td>\n",
       "      <td>40.573359</td>\n",
       "      <td>-8.561106</td>\n",
       "      <td>-1</td>\n",
       "      <td>72</td>\n",
       "      <td>72</td>\n",
       "      <td>72</td>\n",
       "      <td>72</td>\n",
       "    </tr>\n",
       "    <tr>\n",
       "      <th>1</th>\n",
       "      <td>26018669</td>\n",
       "      <td>40.567454</td>\n",
       "      <td>-8.560672</td>\n",
       "      <td>-1</td>\n",
       "      <td>0</td>\n",
       "      <td>0</td>\n",
       "      <td>0</td>\n",
       "      <td>0</td>\n",
       "    </tr>\n",
       "    <tr>\n",
       "      <th>2</th>\n",
       "      <td>26018671</td>\n",
       "      <td>40.568421</td>\n",
       "      <td>-8.560302</td>\n",
       "      <td>-1</td>\n",
       "      <td>72</td>\n",
       "      <td>72</td>\n",
       "      <td>72</td>\n",
       "      <td>72</td>\n",
       "    </tr>\n",
       "    <tr>\n",
       "      <th>3</th>\n",
       "      <td>26019628</td>\n",
       "      <td>40.627240</td>\n",
       "      <td>-8.730450</td>\n",
       "      <td>-1</td>\n",
       "      <td>81</td>\n",
       "      <td>81</td>\n",
       "      <td>49</td>\n",
       "      <td>49</td>\n",
       "    </tr>\n",
       "    <tr>\n",
       "      <th>4</th>\n",
       "      <td>26019631</td>\n",
       "      <td>40.625874</td>\n",
       "      <td>-8.726227</td>\n",
       "      <td>-1</td>\n",
       "      <td>50</td>\n",
       "      <td>86</td>\n",
       "      <td>50</td>\n",
       "      <td>86</td>\n",
       "    </tr>\n",
       "  </tbody>\n",
       "</table>\n",
       "</div>"
      ],
      "text/plain": [
       "    NODE_ID          y         x  NODE_ZONE_CS  M1LABELS_LP_AdjMatContig  \\\n",
       "0  26018652  40.573359 -8.561106            -1                        72   \n",
       "1  26018669  40.567454 -8.560672            -1                         0   \n",
       "2  26018671  40.568421 -8.560302            -1                        72   \n",
       "3  26019628  40.627240 -8.730450            -1                        81   \n",
       "4  26019631  40.625874 -8.726227            -1                        50   \n",
       "\n",
       "   M1LABELS_LP_AdjMatGeoNetDist  M1LABELS_LS_AdjMatContig  \\\n",
       "0                            72                        72   \n",
       "1                             0                         0   \n",
       "2                            72                        72   \n",
       "3                            81                        49   \n",
       "4                            86                        50   \n",
       "\n",
       "   M1LABELS_LS_AdjMatGeoNetDist  \n",
       "0                            72  \n",
       "1                             0  \n",
       "2                            72  \n",
       "3                            49  \n",
       "4                            86  "
      ]
     },
     "execution_count": 91,
     "metadata": {},
     "output_type": "execute_result"
    }
   ],
   "source": [
    "avrilh_network_wgs84_dfnodes_LABELED_Part1.head()"
   ]
  },
  {
   "attachments": {},
   "cell_type": "markdown",
   "metadata": {},
   "source": [
    "## SAVE"
   ]
  },
  {
   "cell_type": "code",
   "execution_count": 92,
   "metadata": {},
   "outputs": [],
   "source": [
    "open_file = open('../Data/Intermediates/db_avrilh_network_wgs84_dfnodes_LABELED.pkl', \"wb\")\n",
    "pickle.dump(avrilh_network_wgs84_dfnodes_LABELED_Part1, open_file)\n",
    "open_file.close()"
   ]
  }
 ],
 "metadata": {
  "kernelspec": {
   "display_name": "ModellingWithTork",
   "language": "python",
   "name": "python3"
  },
  "language_info": {
   "codemirror_mode": {
    "name": "ipython",
    "version": 3
   },
   "file_extension": ".py",
   "mimetype": "text/x-python",
   "name": "python",
   "nbconvert_exporter": "python",
   "pygments_lexer": "ipython3",
   "version": "3.9.16"
  },
  "orig_nbformat": 4
 },
 "nbformat": 4,
 "nbformat_minor": 2
}
